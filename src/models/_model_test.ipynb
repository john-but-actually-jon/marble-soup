{
 "cells": [
  {
   "cell_type": "code",
   "execution_count": 61,
   "metadata": {},
   "outputs": [],
   "source": [
    "import torch\n",
    "from ase import io as aio\n",
    "from ase import Atoms\n",
    "from mace.calculators import MACECalculator"
   ]
  },
  {
   "cell_type": "code",
   "execution_count": 65,
   "metadata": {},
   "outputs": [
    {
     "name": "stdout",
     "output_type": "stream",
     "text": [
      "Potential Energy: -1136.646484375 meV\n"
     ]
    }
   ],
   "source": [
    "# Don't forget to change `device` to \"cpu\"!\n",
    "calc = MACECalculator(\"MACE_Test.model\", device=\"cuda\", default_dtype=\"float32\")\n",
    "with open(\"../../data/some_particle.xyz\", 'r') as f:\n",
    "    atoms = list(aio.extxyz.read_xyz(f))[0]\n",
    "\n",
    "atoms.calc = calc\n",
    "print(f'Potential Energy: {atoms.get_potential_energy()} meV')"
   ]
  },
  {
   "cell_type": "code",
   "execution_count": 63,
   "metadata": {},
   "outputs": [
    {
     "data": {
      "text/plain": [
       "array([[ 0.9765625,  0.       ,  0.       ],\n",
       "       [ 0.9765625,  0.9765625,  0.9765625],\n",
       "       [-0.9765625,  0.9765625,  0.       ],\n",
       "       [ 0.       , -0.9765625,  0.       ],\n",
       "       [ 0.       ,  0.       ,  0.9765625],\n",
       "       [-0.9765625,  0.       ,  0.       ],\n",
       "       [ 0.       ,  0.9765625, -1.953125 ],\n",
       "       [ 0.       ,  0.       , -0.9765625],\n",
       "       [ 0.9765625,  0.9765625,  0.       ],\n",
       "       [-0.9765625,  0.9765625, -0.9765625],\n",
       "       [ 0.9765625, -0.9765625,  0.       ],\n",
       "       [-0.9765625, -1.953125 ,  0.       ],\n",
       "       [ 0.       ,  0.       , -0.9765625],\n",
       "       [ 0.       ,  0.       ,  0.       ],\n",
       "       [ 0.       ,  0.9765625,  0.       ],\n",
       "       [ 0.       , -0.9765625,  0.       ],\n",
       "       [ 0.9765625, -0.9765625,  0.9765625],\n",
       "       [ 0.9765625,  0.       ,  0.       ],\n",
       "       [-0.9765625,  0.9765625,  1.953125 ],\n",
       "       [ 1.953125 ,  0.9765625,  0.       ],\n",
       "       [-2.9296875,  1.953125 , -0.9765625],\n",
       "       [ 0.       , -0.9765625,  0.9765625],\n",
       "       [ 0.       ,  0.       ,  0.       ],\n",
       "       [ 0.       ,  0.       ,  0.       ],\n",
       "       [ 0.9765625, -0.9765625,  0.       ],\n",
       "       [-0.9765625,  0.       ,  0.       ],\n",
       "       [ 0.       ,  0.       ,  0.       ],\n",
       "       [ 0.       , -0.9765625,  0.9765625],\n",
       "       [ 0.       ,  0.9765625,  0.9765625],\n",
       "       [ 0.9765625,  0.9765625,  0.       ],\n",
       "       [-0.9765625,  1.953125 ,  0.       ],\n",
       "       [ 0.       ,  0.       ,  0.       ],\n",
       "       [ 0.9765625, -0.9765625, -0.9765625]])"
      ]
     },
     "execution_count": 63,
     "metadata": {},
     "output_type": "execute_result"
    }
   ],
   "source": [
    "atoms.calc.calculate_numerical_forces(atoms)"
   ]
  },
  {
   "cell_type": "code",
   "execution_count": 40,
   "metadata": {},
   "outputs": [
    {
     "name": "stdout",
     "output_type": "stream",
     "text": [
      "Help on function read_xyz in module ase.io.extxyz:\n",
      "\n",
      "read_xyz(fileobj, index=-1, properties_parser=<function key_val_str_to_dict at 0x7f34ebdd4b80>)\n",
      "    Read from a file in Extended XYZ format\n",
      "    \n",
      "    index is the frame to read, default is last frame (index=-1).\n",
      "    properties_parser is the parse to use when converting the properties line\n",
      "    to a dictionary, ``extxyz.key_val_str_to_dict`` is the default and can\n",
      "    deal with most use cases, ``extxyz.key_val_str_to_dict_regex`` is slightly\n",
      "    faster but has fewer features.\n",
      "    \n",
      "    Extended XYZ format is an enhanced version of the `basic XYZ format\n",
      "    <http://en.wikipedia.org/wiki/XYZ_file_format>`_ that allows extra\n",
      "    columns to be present in the file for additonal per-atom properties as\n",
      "    well as standardising the format of the comment line to include the\n",
      "    cell lattice and other per-frame parameters.\n",
      "    \n",
      "    It's easiest to describe the format with an example.  Here is a\n",
      "    standard XYZ file containing a bulk cubic 8 atom silicon cell ::\n",
      "    \n",
      "        8\n",
      "        Cubic bulk silicon cell\n",
      "        Si          0.00000000      0.00000000      0.00000000\n",
      "        Si        1.36000000      1.36000000      1.36000000\n",
      "        Si        2.72000000      2.72000000      0.00000000\n",
      "        Si        4.08000000      4.08000000      1.36000000\n",
      "        Si        2.72000000      0.00000000      2.72000000\n",
      "        Si        4.08000000      1.36000000      4.08000000\n",
      "        Si        0.00000000      2.72000000      2.72000000\n",
      "        Si        1.36000000      4.08000000      4.08000000\n",
      "    \n",
      "    The first line is the number of atoms, followed by a comment and\n",
      "    then one line per atom, giving the element symbol and cartesian\n",
      "    x y, and z coordinates in Angstroms.\n",
      "    \n",
      "    Here's the same configuration in extended XYZ format ::\n",
      "    \n",
      "        8\n",
      "        Lattice=\"5.44 0.0 0.0 0.0 5.44 0.0 0.0 0.0 5.44\" Properties=species:S:1:pos:R:3 Time=0.0\n",
      "        Si        0.00000000      0.00000000      0.00000000\n",
      "        Si        1.36000000      1.36000000      1.36000000\n",
      "        Si        2.72000000      2.72000000      0.00000000\n",
      "        Si        4.08000000      4.08000000      1.36000000\n",
      "        Si        2.72000000      0.00000000      2.72000000\n",
      "        Si        4.08000000      1.36000000      4.08000000\n",
      "        Si        0.00000000      2.72000000      2.72000000\n",
      "        Si        1.36000000      4.08000000      4.08000000\n",
      "    \n",
      "    In extended XYZ format, the comment line is replaced by a series of\n",
      "    key/value pairs.  The keys should be strings and values can be\n",
      "    integers, reals, logicals (denoted by `T` and `F` for true and false)\n",
      "    or strings. Quotes are required if a value contains any spaces (like\n",
      "    `Lattice` above).  There are two mandatory parameters that any\n",
      "    extended XYZ: `Lattice` and `Properties`. Other parameters --\n",
      "    e.g. `Time` in the example above --- can be added to the parameter line\n",
      "    as needed.\n",
      "    \n",
      "    `Lattice` is a Cartesian 3x3 matrix representation of the cell\n",
      "    vectors, with each vector stored as a column and the 9 values listed in\n",
      "    Fortran column-major order, i.e. in the form ::\n",
      "    \n",
      "      Lattice=\"R1x R1y R1z R2x R2y R2z R3x R3y R3z\"\n",
      "    \n",
      "    where `R1x R1y R1z` are the Cartesian x-, y- and z-components of the\n",
      "    first lattice vector (:math:`\\mathbf{a}`), `R2x R2y R2z` those of the second\n",
      "    lattice vector (:math:`\\mathbf{b}`) and `R3x R3y R3z` those of the\n",
      "    third lattice vector (:math:`\\mathbf{c}`).\n",
      "    \n",
      "    The list of properties in the file is described by the `Properties`\n",
      "    parameter, which should take the form of a series of colon separated\n",
      "    triplets giving the name, format (`R` for real, `I` for integer) and\n",
      "    number of columns of each property. For example::\n",
      "    \n",
      "      Properties=\"species:S:1:pos:R:3:vel:R:3:select:I:1\"\n",
      "    \n",
      "    indicates the first column represents atomic species, the next three\n",
      "    columns represent atomic positions, the next three velcoities, and the\n",
      "    last is an single integer called `select`. With this property\n",
      "    definition, the line ::\n",
      "    \n",
      "      Si        4.08000000      4.08000000      1.36000000   0.00000000      0.00000000      0.00000000       1\n",
      "    \n",
      "    would describe a silicon atom at position (4.08,4.08,1.36) with zero\n",
      "    velocity and the `select` property set to 1.\n",
      "    \n",
      "    The property names `pos`, `Z`, `mass`, and `charge` map to ASE\n",
      "    :attr:`ase.atoms.Atoms.arrays` entries named\n",
      "    `positions`, `numbers`, `masses` and `charges` respectively.\n",
      "    \n",
      "    Additional key-value pairs in the comment line are parsed into the\n",
      "    :attr:`ase.Atoms.atoms.info` dictionary, with the following conventions\n",
      "    \n",
      "     - Values can be quoted with `\"\"`, `''`, `[]` or `{}` (the latter are\n",
      "       included to ease command-line usage as the `{}` are not treated\n",
      "       specially by the shell)\n",
      "     - Quotes within keys or values can be escaped with `\\\"`.\n",
      "     - Keys with special names `stress` or `virial` are treated as 3x3 matrices\n",
      "       in Fortran order, as for `Lattice` above.\n",
      "     - Otherwise, values with multiple elements are treated as 1D arrays, first\n",
      "       assuming integer format and falling back to float if conversion is\n",
      "       unsuccessful.\n",
      "     - A missing value defaults to `True`, e.g. the comment line\n",
      "       `\"cutoff=3.4 have_energy\"` leads to\n",
      "       `{'cutoff': 3.4, 'have_energy': True}` in `atoms.info`.\n",
      "     - Value strings starting with `\"_JSON\"` are interpreted as JSON content;\n",
      "       similarly, when writing, anything which does not match the criteria above\n",
      "       is serialised as JSON.\n",
      "    \n",
      "    The extended XYZ format is also supported by the\n",
      "    the `Ovito <http://www.ovito.org>`_ visualisation tool\n",
      "    (from `v2.4 beta\n",
      "    <http://www.ovito.org/index.php/component/content/article?id=25>`_\n",
      "    onwards).\n",
      "\n"
     ]
    }
   ],
   "source": [
    "help(aio.extxyz.read_xyz)"
   ]
  },
  {
   "cell_type": "code",
   "execution_count": null,
   "metadata": {},
   "outputs": [],
   "source": []
  }
 ],
 "metadata": {
  "kernelspec": {
   "display_name": "mlmp",
   "language": "python",
   "name": "python3"
  },
  "language_info": {
   "codemirror_mode": {
    "name": "ipython",
    "version": 3
   },
   "file_extension": ".py",
   "mimetype": "text/x-python",
   "name": "python",
   "nbconvert_exporter": "python",
   "pygments_lexer": "ipython3",
   "version": "3.8.16"
  },
  "orig_nbformat": 4,
  "vscode": {
   "interpreter": {
    "hash": "61a517f48ca0eec7accc30bfc4f71e7d8d3c2fcf8b93354f082bc33b047ad8ef"
   }
  }
 },
 "nbformat": 4,
 "nbformat_minor": 2
}
