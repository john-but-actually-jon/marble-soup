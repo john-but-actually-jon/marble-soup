{
 "cells": [
  {
   "cell_type": "code",
   "execution_count": 30,
   "metadata": {},
   "outputs": [],
   "source": [
    "import pandas as pd\n",
    "from pathlib import Path\n",
    "import h5py\n",
    "import numpy as np"
   ]
  },
  {
   "cell_type": "code",
   "execution_count": 9,
   "metadata": {},
   "outputs": [],
   "source": [
    "# data_path = Path('..', 'data', 'OCH5.h5').absolute()\n",
    "# f = h5py.File(str(data_path), 'r')\n",
    "\n",
    "df = pd.read_hdf(Path.cwd().parent / \"data\" / \"processed\" / \"OCH_ext_test1.h5\", key=\"chunk_0\")\n",
    "\n"
   ]
  },
  {
   "cell_type": "code",
   "execution_count": 13,
   "metadata": {},
   "outputs": [
    {
     "data": {
      "text/plain": [
       "'[H:33][c:19]1[c:18]([c:20]([c:21]([c:22]2[c:23]1/[C:17](=[C:16](\\\\[H:31])/[C:14](=[C:10]([O:3][H:24])[O:4][H:25])[H:30])/[C:15]3=[C:13]([O:7]2)[C:9](=[O:2])[C:8](=[O:1])[C:11](=[C:12]3[H:29])[H:28])[O:6][H:27])[O:5][H:26])[H:32]'"
      ]
     },
     "execution_count": 13,
     "metadata": {},
     "output_type": "execute_result"
    }
   ],
   "source": [
    "list(df.iloc[0]['smiles'])[0].decode()"
   ]
  },
  {
   "cell_type": "code",
   "execution_count": 61,
   "metadata": {},
   "outputs": [
    {
     "data": {
      "text/plain": [
       "[(0, 7),\n",
       " (1, 8),\n",
       " (2, 23),\n",
       " (2, 9),\n",
       " (3, 24),\n",
       " (4, 25),\n",
       " (5, 26),\n",
       " (7, 0),\n",
       " (8, 1),\n",
       " (9, 2),\n",
       " (10, 27),\n",
       " (11, 28),\n",
       " (13, 29),\n",
       " (15, 30),\n",
       " (17, 31),\n",
       " (18, 32),\n",
       " (19, 20),\n",
       " (20, 19),\n",
       " (23, 2),\n",
       " (24, 3),\n",
       " (25, 4),\n",
       " (26, 5),\n",
       " (27, 10),\n",
       " (28, 11),\n",
       " (29, 13),\n",
       " (30, 15),\n",
       " (31, 17),\n",
       " (32, 18)]"
      ]
     },
     "execution_count": 61,
     "metadata": {},
     "output_type": "execute_result"
    }
   ],
   "source": [
    "from ase import Atoms\n",
    "from ase.neighborlist import neighbor_list\n",
    "\n",
    "a = Atoms(positions=df.iloc[0]['conformations'])\n",
    "\n",
    "i, j, d = neighbor_list(\"ijd\", a, cutoff=2.5)\n",
    "rels = (list(zip(i, j)))\n",
    "one, two = 0, 8\n",
    "# list(filter(lambda pair: ((pair[0]==one and pair[1]==two) or (pair[1]==one and pair[0]==two)), rels))\n",
    "rels\n"
   ]
  },
  {
   "cell_type": "code",
   "execution_count": 19,
   "metadata": {},
   "outputs": [],
   "source": [
    "import ase.neighborlist as nl"
   ]
  },
  {
   "attachments": {},
   "cell_type": "markdown",
   "metadata": {},
   "source": [
    "The following \"fingerprint function\" can be used partly to determine the $k$-th component of the force on the $i$-th atom in a molecule.\n",
    "\n",
    "$$\n",
    "V_i^k(\\eta) = \\sum_{j\\neq i} \\frac{r_{ij}^k}{r_{ij}}\\cdot e^{-(\\frac{r_{ij}}{\\eta})^2}\\cdot f(r_{ij})\n",
    "$$\n",
    "\n",
    "Where \n",
    "\n",
    "$$\n",
    "f(r_{ij}) = \\begin{cases}0 \\s r_{ij} > r_c \\\\ \\frac 12(\\cos()\\frac{\\pi r_{ij}}{r_c} + 1) \\s r_{ij}\\leq r_c \\end{cases}\n",
    "$$"
   ]
  },
  {
   "cell_type": "code",
   "execution_count": null,
   "metadata": {},
   "outputs": [],
   "source": []
  }
 ],
 "metadata": {
  "kernelspec": {
   "display_name": "mlmp",
   "language": "python",
   "name": "python3"
  },
  "language_info": {
   "codemirror_mode": {
    "name": "ipython",
    "version": 3
   },
   "file_extension": ".py",
   "mimetype": "text/x-python",
   "name": "python",
   "nbconvert_exporter": "python",
   "pygments_lexer": "ipython3",
   "version": "3.10.9"
  },
  "orig_nbformat": 4,
  "vscode": {
   "interpreter": {
    "hash": "e7522313f85bd36c2c1ff54e180c550427d8c8ba1ada2733f0b1d3f0041491d4"
   }
  }
 },
 "nbformat": 4,
 "nbformat_minor": 2
}
