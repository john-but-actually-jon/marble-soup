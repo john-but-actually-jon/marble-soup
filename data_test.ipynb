{
 "cells": [
  {
   "cell_type": "code",
   "execution_count": 57,
   "metadata": {},
   "outputs": [],
   "source": [
    "from h5py import File\n",
    "import pandas as pd\n",
    "from src.utils.progbar import ProgBar\n",
    "from ase.neighborlist import PrimitiveNeighborList \n",
    "import numpy as np"
   ]
  },
  {
   "cell_type": "code",
   "execution_count": 1,
   "metadata": {},
   "outputs": [],
   "source": [
    "# with File('data/OCH.h5', 'r') as f:\n",
    "#     cols = [col for col in list(f.values())[0].keys() if col != \"subset\"]\n",
    "#     inds = list(f.keys())\n",
    "#     df = pd.DataFrame(columns=cols, index=inds)\n",
    "#     for ind in inds:\n",
    "#         for col in cols:\n",
    "#             try:\n",
    "#                 df.loc[ind][col] = f[f\"{ind}/{col}\"].value\n",
    "#             except KeyError:\n",
    "#                 pass\n",
    "# df.head(5)"
   ]
  },
  {
   "cell_type": "code",
   "execution_count": 2,
   "metadata": {},
   "outputs": [
    {
     "name": "stdout",
     "output_type": "stream",
     "text": [
      "[                                                                                  ] 0.00%\r"
     ]
    },
    {
     "name": "stderr",
     "output_type": "stream",
     "text": [
      "/home/jonathanwright/miniconda3/envs/ml_mp_env/lib/python3.6/site-packages/pandas/core/generic.py:2449: PerformanceWarning: \n",
      "your performance may suffer as PyTables will pickle object types that it cannot\n",
      "map directly to c-types [inferred_type->mixed,key->block0_values] [items->Index(['atomic_numbers', 'conformations', 'dft_total_energy',\n",
      "       'dft_total_gradient', 'formation_energy', 'mayer_indices',\n",
      "       'mbis_charges', 'mbis_dipoles', 'mbis_octupoles', 'mbis_quadrupoles',\n",
      "       'scf_dipole', 'scf_quadrupole', 'smiles', 'wiberg_lowdin_indices'],\n",
      "      dtype='object')]\n",
      "\n",
      "  encoding=encoding,\n"
     ]
    },
    {
     "name": "stdout",
     "output_type": "stream",
     "text": [
      "[==================================================================================] 100.00%\r"
     ]
    }
   ],
   "source": [
    "one_cols = ['atomic_numbers', 'smiles'] # Columns consistent across all conformations\n",
    "chunk_size = 1000 # All conformations for 20 molecules\n",
    "current_chunk = 0\n",
    "with File('data/OCH.h5', 'r') as f:\n",
    "    cols = [col for col in list(f.values())[0].keys() if col != \"subset\"]\n",
    "    inds = [] # Indices for each row, corresponding to a molecule index and conformation number\n",
    "    mols = list(f.keys()) # Indices for individual molecules\n",
    "    for mol in mols:\n",
    "        conformations = f[f'{mol}/conformations'].shape[0]\n",
    "        for i in range(conformations):\n",
    "            inds.append(f\"{mol}/{i}\")\n",
    "    n_chunks = len(inds) // chunk_size #! This might exclude some data due to rounding down, need to check\n",
    "    prg = ProgBar(n_chunks)\n",
    "    while True:\n",
    "        prg.update(current_chunk)\n",
    "        if current_chunk >= len(inds) // chunk_size:\n",
    "            break\n",
    "        _inds = inds[current_chunk*chunk_size:(current_chunk+1)*chunk_size]    \n",
    "        df = pd.DataFrame(columns=cols, index=_inds)\n",
    "        for _ind in _inds:\n",
    "            for col in cols:\n",
    "                # Case where column has distinct value for each conformation\n",
    "                try:\n",
    "                    if col not in one_cols:\n",
    "                        mol, i = _ind.split(\"/\")\n",
    "                        df.loc[_ind][col] = f[f\"{mol}/{col}\"][()][int(i)]\n",
    "                    else: \n",
    "                        df.loc[_ind][col] = f[f\"{mol}/{col}\"][()]\n",
    "                except KeyError:\n",
    "                    pass\n",
    "        df.to_hdf(\"data/OCH_ext.h5\", key=f\"chunk_{current_chunk}\")\n",
    "        current_chunk+=1\n"
   ]
  },
  {
   "cell_type": "code",
   "execution_count": 4,
   "metadata": {},
   "outputs": [],
   "source": [
    "df = pd.read_hdf('data/processed/OCH_ext_test1.h5', \"chunk_0\", 'r')"
   ]
  },
  {
   "cell_type": "code",
   "execution_count": 11,
   "metadata": {},
   "outputs": [
    {
     "data": {
      "text/plain": [
       "atomic_numbers           [8, 8, 8, 8, 8, 8, 8, 6, 6, 6, 6, 6, 6, 6, 6, ...\n",
       "conformations            [[-3.7761912, 0.2544896, -7.6026983], [1.53757...\n",
       "dft_total_energy                                                  -1142.93\n",
       "dft_total_gradient       [[-0.03294501, -0.0059776297, -0.031587306], [...\n",
       "formation_energy                                                  -6.19246\n",
       "mayer_indices            [[0.0, 0.05211287, 5.511885e-05, 3.868582e-05,...\n",
       "mbis_charges             [[-0.42718434], [-0.39027286], [-0.5742869], [...\n",
       "mbis_dipoles             [[-0.039469335, 0.006042725, -0.051155943], [0...\n",
       "mbis_octupoles           [[[[0.15195373 0.03321473 0.0536355 ], [ 0.033...\n",
       "mbis_quadrupoles         [[[-4.3716974, 0.047171943, 0.027945584], [0.0...\n",
       "scf_dipole                            [-1.3032234, -0.38430625, 2.0021617]\n",
       "scf_quadrupole           [[-96.58924, 1.2722458, -9.466976], [1.2722458...\n",
       "smiles                   [[H:33][c:19]1[c:18]([c:20]([c:21]([c:22]2[c:2...\n",
       "wiberg_lowdin_indices    [[0.0, 0.11838561, 9.8221644e-05, 9.1099064e-0...\n",
       "Name: 103923944/0, dtype: object"
      ]
     },
     "execution_count": 11,
     "metadata": {},
     "output_type": "execute_result"
    }
   ],
   "source": [
    "# df.conformations[0]\n",
    "row1 = df.iloc[0]\n",
    "# df.atomic_numbers[0]\n",
    "row1"
   ]
  },
  {
   "cell_type": "code",
   "execution_count": 55,
   "metadata": {},
   "outputs": [],
   "source": [
    "atom_num_map = {8:\"O\", 6: \"C\", 1:\"H\"}\n",
    "\n",
    "def interatomic_distances(row):\n",
    "    \"\"\" \n",
    "    Calculate the interatomic distances for a given conformation\n",
    "    Annotate based on the two atoms involved\n",
    "    \"\"\"\n",
    "    print(row.conformations[0])\n",
    "    print(row.conformations[1])\n",
    "\n",
    "    return np.linalg.norm([\n",
    "        [np.array(row.conformations[0]), (row.conformations[1])],\n",
    "        [np.array(row.conformations[0]), (row.conformations[1])]\n",
    "    ],axis=(1,2))"
   ]
  },
  {
   "cell_type": "code",
   "execution_count": 97,
   "metadata": {},
   "outputs": [],
   "source": [
    "from ase.neighborlist import neighbor_list\n",
    "from ase import Atoms\n",
    "\n",
    "a = Atoms(\n",
    "    numbers=row1.atomic_numbers,\n",
    "    positions=row1.conformations\n",
    ")\n",
    "\n",
    "b = neighbor_list('ijd', a, cutoff=2.5, self_interaction=False)\n"
   ]
  },
  {
   "cell_type": "code",
   "execution_count": 98,
   "metadata": {},
   "outputs": [
    {
     "data": {
      "text/plain": [
       "(array([ 0,  1,  2,  2,  3,  4,  5,  7,  8,  9, 10, 11, 13, 15, 17, 18, 19,\n",
       "        20, 23, 24, 25, 26, 27, 28, 29, 30, 31, 32]),\n",
       " array([ 7,  8, 23,  9, 24, 25, 26,  0,  1,  2, 27, 28, 29, 30, 31, 32, 20,\n",
       "        19,  2,  3,  4,  5, 10, 11, 13, 15, 17, 18]),\n",
       " array([2.34690532, 2.34801044, 1.86808924, 2.49766506, 1.7865955 ,\n",
       "        1.83831925, 2.00485411, 2.34690532, 2.34801044, 2.49766506,\n",
       "        2.10653579, 1.98753989, 2.08968685, 2.01348883, 2.0877547 ,\n",
       "        2.1060767 , 2.47298836, 2.47298836, 1.86808924, 1.7865955 ,\n",
       "        1.83831925, 2.00485411, 2.10653579, 1.98753989, 2.08968685,\n",
       "        2.01348883, 2.0877547 , 2.1060767 ]))"
      ]
     },
     "execution_count": 98,
     "metadata": {},
     "output_type": "execute_result"
    }
   ],
   "source": [
    "b"
   ]
  },
  {
   "cell_type": "code",
   "execution_count": 93,
   "metadata": {},
   "outputs": [
    {
     "ename": "AttributeError",
     "evalue": "'NeighborList' object has no attribute 'neighbor_list'",
     "output_type": "error",
     "traceback": [
      "\u001b[0;31m---------------------------------------------------------------------------\u001b[0m",
      "\u001b[0;31mAttributeError\u001b[0m                            Traceback (most recent call last)",
      "\u001b[0;32m<ipython-input-93-f2d1ad015ce7>\u001b[0m in \u001b[0;36m<module>\u001b[0;34m\u001b[0m\n\u001b[1;32m      1\u001b[0m \u001b[0;31m# b.get_neighbors([i for i in range(a.numbers.shape[0])])\u001b[0m\u001b[0;34m\u001b[0m\u001b[0;34m\u001b[0m\u001b[0;34m\u001b[0m\u001b[0m\n\u001b[0;32m----> 2\u001b[0;31m \u001b[0mb\u001b[0m\u001b[0;34m.\u001b[0m\u001b[0mneighbor_list\u001b[0m\u001b[0;34m(\u001b[0m\u001b[0;36m0\u001b[0m\u001b[0;34m)\u001b[0m\u001b[0;34m\u001b[0m\u001b[0;34m\u001b[0m\u001b[0m\n\u001b[0m",
      "\u001b[0;31mAttributeError\u001b[0m: 'NeighborList' object has no attribute 'neighbor_list'"
     ]
    }
   ],
   "source": [
    "# b.get_neighbors([i for i in range(a.numbers.shape[0])])\n",
    "b.neighbor_list(0)"
   ]
  },
  {
   "cell_type": "code",
   "execution_count": null,
   "metadata": {},
   "outputs": [],
   "source": []
  }
 ],
 "metadata": {
  "kernelspec": {
   "display_name": "ml_mp_env",
   "language": "python",
   "name": "python3"
  },
  "language_info": {
   "codemirror_mode": {
    "name": "ipython",
    "version": 3
   },
   "file_extension": ".py",
   "mimetype": "text/x-python",
   "name": "python",
   "nbconvert_exporter": "python",
   "pygments_lexer": "ipython3",
   "version": "3.6.13"
  },
  "orig_nbformat": 4,
  "vscode": {
   "interpreter": {
    "hash": "5627a8f4e61e8101f8a9150db5792b663ba537d9dce93c3f0beebf26b40bc683"
   }
  }
 },
 "nbformat": 4,
 "nbformat_minor": 2
}
